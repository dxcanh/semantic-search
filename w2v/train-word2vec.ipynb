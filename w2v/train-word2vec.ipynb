{
  "cells": [
    {
      "cell_type": "markdown",
      "metadata": {
        "id": "48wyEjbsW19M"
      },
      "source": [
        "# Install libraries"
      ]
    },
    {
      "cell_type": "code",
      "execution_count": 1,
      "metadata": {
        "colab": {
          "base_uri": "https://localhost:8080/"
        },
        "id": "bldVK-5-jd5O",
        "outputId": "9f90d3e3-3937-4c0e-adb4-9f9af5755b10"
      },
      "outputs": [
        {
          "name": "stdout",
          "output_type": "stream",
          "text": [
            "Collecting nltk\n",
            "  Using cached nltk-3.9.1-py3-none-any.whl.metadata (2.9 kB)\n",
            "Collecting click (from nltk)\n",
            "  Using cached click-8.1.7-py3-none-any.whl.metadata (3.0 kB)\n",
            "Requirement already satisfied: joblib in /home/canhdx/miniconda3/envs/DL/lib/python3.12/site-packages (from nltk) (1.4.2)\n",
            "Requirement already satisfied: regex>=2021.8.3 in /home/canhdx/miniconda3/envs/DL/lib/python3.12/site-packages (from nltk) (2024.11.6)\n",
            "Requirement already satisfied: tqdm in /home/canhdx/miniconda3/envs/DL/lib/python3.12/site-packages (from nltk) (4.67.1)\n",
            "Using cached nltk-3.9.1-py3-none-any.whl (1.5 MB)\n",
            "Using cached click-8.1.7-py3-none-any.whl (97 kB)\n",
            "Installing collected packages: click, nltk\n",
            "Successfully installed click-8.1.7 nltk-3.9.1\n",
            "Collecting gensim\n",
            "  Downloading gensim-4.3.3-cp312-cp312-manylinux_2_17_x86_64.manylinux2014_x86_64.whl.metadata (8.1 kB)\n",
            "Collecting numpy<2.0,>=1.18.5 (from gensim)\n",
            "  Using cached numpy-1.26.4-cp312-cp312-manylinux_2_17_x86_64.manylinux2014_x86_64.whl.metadata (61 kB)\n",
            "Collecting scipy<1.14.0,>=1.7.0 (from gensim)\n",
            "  Downloading scipy-1.13.1-cp312-cp312-manylinux_2_17_x86_64.manylinux2014_x86_64.whl.metadata (60 kB)\n",
            "Collecting smart-open>=1.8.1 (from gensim)\n",
            "  Downloading smart_open-7.0.5-py3-none-any.whl.metadata (24 kB)\n",
            "Collecting wrapt (from smart-open>=1.8.1->gensim)\n",
            "  Downloading wrapt-1.17.0-cp312-cp312-manylinux_2_5_x86_64.manylinux1_x86_64.manylinux_2_17_x86_64.manylinux2014_x86_64.whl.metadata (6.4 kB)\n",
            "Downloading gensim-4.3.3-cp312-cp312-manylinux_2_17_x86_64.manylinux2014_x86_64.whl (26.6 MB)\n",
            "\u001b[2K   \u001b[90m━━━━━━━━━━━━━━━━━━━━━━━━━━━━━━━━━━━━━━━━\u001b[0m \u001b[32m26.6/26.6 MB\u001b[0m \u001b[31m10.3 MB/s\u001b[0m eta \u001b[36m0:00:00\u001b[0m00:01\u001b[0m0:01\u001b[0m\n",
            "\u001b[?25hUsing cached numpy-1.26.4-cp312-cp312-manylinux_2_17_x86_64.manylinux2014_x86_64.whl (18.0 MB)\n",
            "Downloading scipy-1.13.1-cp312-cp312-manylinux_2_17_x86_64.manylinux2014_x86_64.whl (38.2 MB)\n",
            "\u001b[2K   \u001b[90m━━━━━━━━━━━━━━━━━━━━━━━━━━━━━━━━━━━━━━━━\u001b[0m \u001b[32m38.2/38.2 MB\u001b[0m \u001b[31m26.4 MB/s\u001b[0m eta \u001b[36m0:00:00\u001b[0m00:01\u001b[0m00:01\u001b[0m\n",
            "\u001b[?25hDownloading smart_open-7.0.5-py3-none-any.whl (61 kB)\n",
            "Downloading wrapt-1.17.0-cp312-cp312-manylinux_2_5_x86_64.manylinux1_x86_64.manylinux_2_17_x86_64.manylinux2014_x86_64.whl (89 kB)\n",
            "Installing collected packages: wrapt, numpy, smart-open, scipy, gensim\n",
            "  Attempting uninstall: numpy\n",
            "    Found existing installation: numpy 2.2.0\n",
            "    Uninstalling numpy-2.2.0:\n",
            "      Successfully uninstalled numpy-2.2.0\n",
            "  Attempting uninstall: scipy\n",
            "    Found existing installation: scipy 1.14.1\n",
            "    Uninstalling scipy-1.14.1:\n",
            "      Successfully uninstalled scipy-1.14.1\n",
            "Successfully installed gensim-4.3.3 numpy-1.26.4 scipy-1.13.1 smart-open-7.0.5 wrapt-1.17.0\n"
          ]
        }
      ],
      "source": [
        "!pip install nltk\n",
        "!pip install gensim\n"
      ]
    },
    {
      "cell_type": "markdown",
      "metadata": {
        "id": "126T1CpSW7mE"
      },
      "source": [
        "# Train word2vec"
      ]
    },
    {
      "cell_type": "code",
      "execution_count": null,
      "metadata": {},
      "outputs": [],
      "source": [
        "import re\n",
        "import gensim\n",
        "import nltk\n",
        "from gensim.models import Word2Vec\n",
        "from nltk.tokenize import sent_tokenize\n",
        "nltk.download('punkt')\n",
        "\n",
        "# Path to file text.txt\n",
        "file_path = 'text.txt'\n",
        "\n",
        "# Read data from file\n",
        "with open(file_path, 'r', encoding='utf-8') as file:\n",
        "    data = file.read()\n",
        "\n",
        "# Divide the paragraph into sentences\n",
        "sentences = sent_tokenize(data)\n",
        "\n",
        "# Regular expression to separate words, including emoticons\n",
        "pattern = r'\\w+[:\\.\\(\\);-]*\\)+|\\S+'\n",
        "\n",
        "# Separate each sentence into words and emotional expressions\n",
        "tokenized_sentences = []\n",
        "for sentence in sentences:\n",
        "    tokenized_sentence = re.findall(pattern, sentence)\n",
        "    tokenized_sentences.append(tokenized_sentence)\n",
        "\n",
        "# Train model word2vec\n",
        "model = Word2Vec(tokenized_sentences, min_count=1, vector_size=100, window=5, sg=1)\n",
        "\n",
        "# Save model as .txt file\n",
        "model_path = 'word2vec.txt'\n",
        "model.wv.save_word2vec_format(model_path, binary=False)"
      ]
    }
  ],
  "metadata": {
    "colab": {
      "provenance": []
    },
    "kernelspec": {
      "display_name": "DL",
      "language": "python",
      "name": "python3"
    },
    "language_info": {
      "codemirror_mode": {
        "name": "ipython",
        "version": 3
      },
      "file_extension": ".py",
      "mimetype": "text/x-python",
      "name": "python",
      "nbconvert_exporter": "python",
      "pygments_lexer": "ipython3",
      "version": "3.12.8"
    }
  },
  "nbformat": 4,
  "nbformat_minor": 0
}
