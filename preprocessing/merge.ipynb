{
 "cells": [
  {
   "cell_type": "code",
   "execution_count": 1,
   "metadata": {},
   "outputs": [],
   "source": [
    "import csv\n",
    "import pandas as pd"
   ]
  },
  {
   "cell_type": "code",
   "execution_count": 13,
   "metadata": {},
   "outputs": [],
   "source": [
    "file_path = '/home/canhdx/workspace/semantic-search/data/comments.csv'\n",
    "\n",
    "df = pd.read_csv(file_path, on_bad_lines='skip')\n",
    "\n",
    "df_filtered = df[['content']]\n",
    "\n",
    "df_filtered = df_filtered['content'].apply(lambda x: x.strip(' \"'))\n",
    "\n",
    "# save to csv\n",
    "df_filtered.to_csv('filtered_data.csv', index=False)"
   ]
  }
 ],
 "metadata": {
  "kernelspec": {
   "display_name": "DL",
   "language": "python",
   "name": "python3"
  },
  "language_info": {
   "codemirror_mode": {
    "name": "ipython",
    "version": 3
   },
   "file_extension": ".py",
   "mimetype": "text/x-python",
   "name": "python",
   "nbconvert_exporter": "python",
   "pygments_lexer": "ipython3",
   "version": "3.12.8"
  }
 },
 "nbformat": 4,
 "nbformat_minor": 2
}
